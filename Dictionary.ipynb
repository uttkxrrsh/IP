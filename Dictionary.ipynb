{
 "cells": [
  {
   "cell_type": "code",
   "execution_count": 3,
   "metadata": {},
   "outputs": [],
   "source": [
    "# INFLATION DICTIONARY\n",
    "ConsumerPricesInflation_Hawkish = [\"accelerated\", \"boosted\", \"elevated\", \"escalated\", \"high\", \"hightened\", \"increased\", \"jumped\", \"pickup\", \"rised\", \"rising\", \"rose\", \"runup\", \"run-up\", \"strongness\", \"surged\", \"upped\"]\n",
    "ConsumerPricesInflation_Dovish = [\"decelarated\", \"declined\", \"decreased\", \"downed\", \"dropped\", \"fallen\", \"falling\", \"fell\", \"lowest\", \"lowed\", \"lowered\", \"muted\", \"reduced\", \"slowed\", \"stable\", \"subdued\", \"weak\", \"weakened\", \"contained\"]\n",
    "\n",
    "InterestRate_Hawkish = [\"accelerated\", \"boosted\", \"elevated\", \"escalated\", \"high\", \"hightened\", \"increased\", \"jumped\", \"pickup\", \"rised\", \"rising\", \"rose\", \"runup\", \"run-up\", \"strongness\", \"surged\", \"upped\", \"increase\"]\n",
    "InterestRate_Dovish = [\"decelarated\", \"declined\", \"decreased\", \"downed\", \"dropped\", \"fallen\", \"falling\", \"fell\", \"lowest\", \"lowed\", \"lowered\", \"muted\", \"reduced\", \"slowed\", \"stable\", \"subdued\", \"weak\", \"weakened\", \"contained\", \"decrease\"]\n",
    "\n",
    "\n",
    "InflationPressure_Hawkish = [\"accelerated\", \"boosted\", \"building\", \"elevated\", \"emerged\", \"great\", \"greatening\", \"heighten\", \"highed\", \"increased\", \"intensified\", \"mounted\", \"mountained\", \"pickup\", \"rise\", \"rose\",\"rising\",\"stoked\", \"stokened\", \"sustained\"]\n",
    "InflationPressure_Dovish = [\"abated\", \"contained\", \"dampened\", \"decelerated\", \"declined\", \"decreased\", \"diminish\", \"eased\", \"easy\", \"falling\", \"fallen\", \"fell\", \"lowest\", \"lowed\", \"lowered\", \"moderated\", \"receded\", \"reduced\", \"subdued\", \"tempered\"]\n",
    "\n",
    "\n",
    "# ECONOMIC ACTIVITY DICTIONARY\n",
    "# edged up, picked up\n",
    "ConsumerSpending_Hawkish = [\"accelerated\", \"edged up\", \"expanded\", \"increased\", \"picked up\", \"pickup\", \"softened\", \"strengthened\", \"strongness\", \"weak\", \"weakened\"]\n",
    "ConsumerSpending_Dovish = [\"contracted\", \"decelerated\", \"decreased\", \"dropped\", \"retrenched\", \"slowed\", \"slugged\", \"softened\", \"subdued\"]\n",
    "\n",
    "# edged up, picked up, stepped up\n",
    "EconomicActivity_Hawkish = [\"accelerated\", \"buoyant\", \"edged up\", \"expanded\", \"increased\", \"high\", \"hightened\", \"picked up\", \"pickup\", \"rised\", \"rose\", \"rising\", \"stepped up\", \"strenghthened\", \"strongness\", \"upside\"]\n",
    "EconomicActivity_Dovish = [\"contracted\", \"curtailed\", \"decelerated\", \"declined\", \"decreased\", \"downside\", \"drop\", \"fallen\", \"falling\", \"fell\", \"lowest\", \"lowed\", \"lowered\", \"moderated\", \"slowed\", \"slugged\",\"weak\", \"weakened\"]\n",
    "\n",
    "ResourceUtilization_Hawkish = [\"high\", \"hightened\", \"increased\", \"rise\", \"rising\", \"rose\", \"tight\", \"tightened\"]\n",
    "ResourceUtilization_Dovish = [\"declined\", \"fallen\", \"falling\", \"fell\", \"loosened\", \"lowed\", \"lowered\", \"lowest\"]\n",
    "\n",
    "\n",
    "# EMPLOYMENT DICTIONARY\n",
    "# picked up, turned up\n",
    "Employment_Hawkish = [\"expanded\", \"gained\", \"improved\", \"increased\", \"picked up\", \"pickup\", \"raised\", \"rised\", \"rising\", \"rose\", \"strengthened\", \"turned up\"]\n",
    "Employment_Dovish = [\"slowed\", \"declined\", \"reduced\", \"weak\", \"weakened\", \"deteriorated\", \"shrink\", \"shrinking\", \"shrank\", \"falling\", \"fallen\", \"fell\", \"drop\", \"contracted\", \"sluggish\"]\n",
    "\n",
    "LaborMarket_Hawkish = [\"strained\", \"tightened\"]\n",
    "LaborMarket_Dovish = [\"eased\", \"easing\", \"loosened\", \"loosening\", \"softened\", \"softening\", \"weakened\", \"weakening\"]\n",
    "\n",
    "Unemployment_Hawkish = [\"declined\", \"declining\", \"fallen\", \"falling\", \"fell\", \"lowest\", \"lowed\", \"lowered\", \"reduced\"]\n",
    "Unemployment_Dovish = [\"increased\", \"increasing\", \"rose\", \"rising\", \"rised\", \"high\", \"elevated\"]"
   ]
  },
  {
   "cell_type": "code",
   "execution_count": 5,
   "metadata": {},
   "outputs": [
    {
     "name": "stdout",
     "output_type": "stream",
     "text": [
      "['accel', 'boost', 'elev', 'escal', 'high', 'highten', 'increa', 'jump', 'pickup', 'rise', 'rise', 'rose', 'runup', 'run-up', 'strong', 'surg', 'up']\n"
     ]
    }
   ],
   "source": [
    "# stem each list made in above cell\n",
    "from nltk.stem import PorterStemmer\n",
    "stemmer = PorterStemmer()\n",
    "ConsumerPricesInflation_Hawkish = [stemmer.stem(word) for word in ConsumerPricesInflation_Hawkish]\n",
    "print(ConsumerPricesInflation_Hawkish)\n",
    "ConsumerPricesInflation_Dovish = [stemmer.stem(word) for word in ConsumerPricesInflation_Dovish]\n",
    "# print(ConsumerPricesInflation_Dovish)\n",
    "InflationPressure_Hawkish = [stemmer.stem(word) for word in InflationPressure_Hawkish]\n",
    "# print(InflationPressure_Hawkish)\n",
    "InflationPressure_Dovish = [stemmer.stem(word) for word in InflationPressure_Dovish]\n",
    "# print(InflationPressure_Dovish)\n",
    "ConsumerSpending_Hawkish = [stemmer.stem(word) for word in ConsumerSpending_Hawkish]\n",
    "# print(ConsumerSpending_Hawkish)\n",
    "ConsumerSpending_Dovish = [stemmer.stem(word) for word in ConsumerSpending_Dovish]\n",
    "# print(ConsumerSpending_Dovish)\n",
    "EconomicActivity_Hawkish = [stemmer.stem(word) for word in EconomicActivity_Hawkish]\n",
    "# print(EconomicActivity_Hawkish)\n",
    "EconomicActivity_Dovish = [stemmer.stem(word) for word in EconomicActivity_Dovish]\n",
    "# print(EconomicActivity_Dovish)\n",
    "ResourceUtilization_Hawkish = [stemmer.stem(word) for word in ResourceUtilization_Hawkish]\n",
    "# print(ResourceUtilization_Hawkish)\n",
    "ResourceUtilization_Dovish = [stemmer.stem(word) for word in ResourceUtilization_Dovish]\n",
    "# print(ResourceUtilization_Dovish)\n",
    "Employment_Hawkish = [stemmer.stem(word) for word in Employment_Hawkish]\n",
    "# print(Employment_Hawkish)\n",
    "Employment_Dovish = [stemmer.stem(word) for word in Employment_Dovish]\n",
    "# print(Employment_Dovish)\n",
    "LaborMarket_Hawkish = [stemmer.stem(word) for word in LaborMarket_Hawkish]\n",
    "# print(LaborMarket_Hawkish)\n",
    "LaborMarket_Dovish = [stemmer.stem(word) for word in LaborMarket_Dovish]\n",
    "# print(LaborMarket_Dovish)\n",
    "Unemployment_Hawkish = [stemmer.stem(word) for word in Unemployment_Hawkish]\n",
    "# print(Unemployment_Hawkish)\n",
    "Unemployment_Dovish = [stemmer.stem(word) for word in Unemployment_Dovish]\n",
    "# print(Unemployment_Dovish)\n"
   ]
  },
  {
   "cell_type": "code",
   "execution_count": null,
   "metadata": {},
   "outputs": [],
   "source": []
  }
 ],
 "metadata": {
  "kernelspec": {
   "display_name": "Python 3",
   "language": "python",
   "name": "python3"
  },
  "language_info": {
   "codemirror_mode": {
    "name": "ipython",
    "version": 3
   },
   "file_extension": ".py",
   "mimetype": "text/x-python",
   "name": "python",
   "nbconvert_exporter": "python",
   "pygments_lexer": "ipython3",
   "version": "3.10.1"
  },
  "orig_nbformat": 4
 },
 "nbformat": 4,
 "nbformat_minor": 2
}
