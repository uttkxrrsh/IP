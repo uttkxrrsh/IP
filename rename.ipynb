{
 "cells": [
  {
   "cell_type": "code",
   "execution_count": 2,
   "metadata": {},
   "outputs": [],
   "source": [
    "import os"
   ]
  },
  {
   "cell_type": "code",
   "execution_count": 8,
   "metadata": {},
   "outputs": [
    {
     "name": "stdout",
     "output_type": "stream",
     "text": [
      "['04-2021.pdf', '02-2018.pdf', '08-2017.pdf', '12-2020.pdf', '02-2021.pdf', '10-2016.pdf', '08-2019.pdf', '02-2020.pdf', '02-2019.pdf', '08-2021.pdf', '04-2020.pdf', '04-2019.pdf', '12-2017.pdf', '06-2021.pdf', '08-2022.pdf', '12-2021.pdf', '05-2020.pdf', '08-2023.pdf', '06-2017.pdf', '02-2017.pdf', '02-2023.pdf', '06-2018.pdf', '12-2016.pdf', '12-2022.pdf', '04-2022.pdf', '12-2018.pdf', '06-2019.pdf', '08-2020.pdf', '03-2020.pdf', '10-2020.pdf', '10-2019.pdf', '10-2021.pdf', '04-2023.pdf', '09-2022.pdf', '04-2017.pdf', '12-2019.pdf', '08-2018.pdf', '06-2023.pdf', '02-2022.pdf', '10-2018.pdf', '10-2017.pdf', '04-2018.pdf', '06-2022.pdf']\n",
      "4-2021.pdf\n",
      "2-2018.pdf\n",
      "8-2017.pdf\n",
      "12-2020.pdf\n",
      "2-2021.pdf\n",
      "10-2016.pdf\n",
      "8-2019.pdf\n",
      "2-2020.pdf\n",
      "2-2019.pdf\n",
      "8-2021.pdf\n",
      "4-2020.pdf\n",
      "4-2019.pdf\n",
      "12-2017.pdf\n",
      "6-2021.pdf\n",
      "8-2022.pdf\n",
      "12-2021.pdf\n",
      "5-2020.pdf\n",
      "8-2023.pdf\n",
      "6-2017.pdf\n",
      "2-2017.pdf\n",
      "2-2023.pdf\n",
      "6-2018.pdf\n",
      "12-2016.pdf\n",
      "12-2022.pdf\n",
      "4-2022.pdf\n",
      "12-2018.pdf\n",
      "6-2019.pdf\n",
      "8-2020.pdf\n",
      "3-2020.pdf\n",
      "10-2020.pdf\n",
      "10-2019.pdf\n",
      "10-2021.pdf\n",
      "4-2023.pdf\n",
      "9-2022.pdf\n",
      "4-2017.pdf\n",
      "12-2019.pdf\n",
      "8-2018.pdf\n",
      "6-2023.pdf\n",
      "2-2022.pdf\n",
      "10-2018.pdf\n",
      "10-2017.pdf\n",
      "4-2018.pdf\n",
      "6-2022.pdf\n"
     ]
    }
   ],
   "source": [
    "# open folder MPC and rename all files [April17.pdf] to [04/2017.pdf] and similarly for other files tooo\n",
    "\n",
    "month_dict = {'01': '1', '02': '2', '03': '3', '04': '4', '05': '5', '06': '6', '07': '7', '08': '8', '09': '9', '10': '10', '11': '11', '12': '12'}\n",
    "# os.chdir('MPC')\n",
    "files = os.listdir()\n",
    "print(files)\n",
    "for file in files:\n",
    "    date = file.split('.')[0]\n",
    "    month = date.split('-')[0]\n",
    "    year = date.split('-')[1]\n",
    "    new_name = month_dict[month] + '-' + '20' + year[-2:] + '.pdf'\n",
    "    print(new_name)\n",
    "    os.rename(file, new_name)"
   ]
  }
 ],
 "metadata": {
  "kernelspec": {
   "display_name": "Python 3",
   "language": "python",
   "name": "python3"
  },
  "language_info": {
   "codemirror_mode": {
    "name": "ipython",
    "version": 3
   },
   "file_extension": ".py",
   "mimetype": "text/x-python",
   "name": "python",
   "nbconvert_exporter": "python",
   "pygments_lexer": "ipython3",
   "version": "3.8.10"
  },
  "orig_nbformat": 4
 },
 "nbformat": 4,
 "nbformat_minor": 2
}
