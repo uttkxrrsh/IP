{
 "cells": [
  {
   "cell_type": "code",
   "execution_count": 12,
   "metadata": {},
   "outputs": [],
   "source": [
    "# i want to get all the files in cwd\n",
    "\n",
    "import os\n",
    "import glob\n",
    "\n",
    "# get all the folders in cwd\n",
    "# get all the folder name in the folder Governer Speeches in the cwd\n",
    "\n",
    "def get_folder_names_in_Governer_Speeches():\n",
    "    cwd = os.getcwd()\n",
    "    # get all the foldername in Governeer Speeches that is in cwd\n",
    "           \n",
    "    file_names = []\n",
    "    for i in range(len(folder_names)):\n",
    "        for root, dirs, files in os.walk(\"Governer Speeches/\" + folder_names[i]):\n",
    "            for name in files:\n",
    "                "
   ]
  },
  {
   "cell_type": "code",
   "execution_count": 14,
   "metadata": {},
   "outputs": [
    {
     "name": "stdout",
     "output_type": "stream",
     "text": [
      "['/home/uttkarsh/IP/Governor Speeches/2021 Q1', '/home/uttkarsh/IP/Governor Speeches/2018 Q1', '/home/uttkarsh/IP/Governor Speeches/2014 Q1', '/home/uttkarsh/IP/Governor Speeches/2019 Q3', '/home/uttkarsh/IP/Governor Speeches/2014 Q2', '/home/uttkarsh/IP/Governor Speeches/2017 Q4', '/home/uttkarsh/IP/Governor Speeches/2023 Q2', '/home/uttkarsh/IP/Governor Speeches/2022 Q3', '/home/uttkarsh/IP/Governor Speeches/2016 Q1', '/home/uttkarsh/IP/Governor Speeches/2023 Q1', '/home/uttkarsh/IP/Governor Speeches/2016 Q2', '/home/uttkarsh/IP/Governor Speeches/2016 Q3', '/home/uttkarsh/IP/Governor Speeches/2022 Q1', '/home/uttkarsh/IP/Governor Speeches/2018 Q4', '/home/uttkarsh/IP/Governor Speeches/2015 Q2', '/home/uttkarsh/IP/Governor Speeches/2021 Q3', '/home/uttkarsh/IP/Governor Speeches/2023 Q3', '/home/uttkarsh/IP/Governor Speeches/2020 Q1', '/home/uttkarsh/IP/Governor Speeches/2019 Q2', '/home/uttkarsh/IP/Governor Speeches/2020 Q3']\n"
     ]
    }
   ],
   "source": []
  },
  {
   "cell_type": "code",
   "execution_count": null,
   "metadata": {},
   "outputs": [],
   "source": []
  }
 ],
 "metadata": {
  "kernelspec": {
   "display_name": "Python 3",
   "language": "python",
   "name": "python3"
  },
  "language_info": {
   "codemirror_mode": {
    "name": "ipython",
    "version": 3
   },
   "file_extension": ".py",
   "mimetype": "text/x-python",
   "name": "python",
   "nbconvert_exporter": "python",
   "pygments_lexer": "ipython3",
   "version": "3.8.10"
  },
  "orig_nbformat": 4
 },
 "nbformat": 4,
 "nbformat_minor": 2
}
