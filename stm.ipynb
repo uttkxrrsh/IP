{
 "cells": [
  {
   "cell_type": "code",
   "execution_count": 22,
   "metadata": {},
   "outputs": [],
   "source": [
    "from bertopic import BERTopic\n",
    "import os\n",
    "import glob\n",
    "import PyPDF2\n",
    "import regex as re\n",
    "from nltk import word_tokenize \n",
    "from nltk.util import ngrams\n",
    "from nltk.corpus import stopwords\n",
    "stop_words = set(stopwords.words('english'))\n",
    "from dictionary import *\n",
    "from wordcloud import WordCloud\n",
    "import matplotlib.pyplot as plt\n",
    "import json\n",
    "import os\n",
    "import glob\n",
    "from tqdm import tqdm\n",
    "from transformers.pipelines import pipeline\n",
    "\n",
    "# get all the text from the documents and make a dictionary of name of the document and the text\n"
   ]
  },
  {
   "cell_type": "code",
   "execution_count": 9,
   "metadata": {},
   "outputs": [],
   "source": [
    "# text_dictionary = {}\n",
    "# os.chdir('/home/uttkarsh/IP')\n",
    "\n",
    "\n",
    "# def get_text(file):\n",
    "#     text = ''\n",
    "#     with open(file, 'rb') as pdfFileObj:\n",
    "#         pdfReader = PyPDF2.PdfReader(pdfFileObj)\n",
    "#         num_pages = len(pdfReader.pages)\n",
    "#         for i in range(num_pages):\n",
    "#             pageObj = pdfReader.pages[i]\n",
    "#             text += pageObj.extract_text()\n",
    "#         text = text.replace('\\n', '')\n",
    "#     return text\n",
    "\n",
    "# def get_folder_names():\n",
    "#     cwd = os.getcwd()\n",
    "#     print(cwd)\n",
    "#     folder_names = glob.glob(cwd + '/Governor Speeches/*')\n",
    "#     return folder_names\n",
    "\n",
    "\n",
    "# # opening each file in each folder\n",
    "# def make_text_dictionary():\n",
    "#     folder_names = get_folder_names()\n",
    "#     print(folder_names)\n",
    "#     # show this as tqdm\n",
    "#     for i in range(len(folder_names)):\n",
    "#         print(folder_names[i])\n",
    "#         os.chdir(folder_names[i])\n",
    "#         file_names = glob.glob('*.pdf')\n",
    "#         for file_name in file_names:\n",
    "#             print(file_name)\n",
    "#             text = get_text(file_name)\n",
    "#             text_dictionary[file_name] = text\n",
    "#     os.chdir('/home/uttkarsh/IP')\n",
    "#     # dump the text_dictionary into a json file\n",
    "#     with open('text_dictionary.json', 'w') as fp:\n",
    "#         json.dump(text_dictionary, fp)\n",
    "#     return None"
   ]
  },
  {
   "cell_type": "code",
   "execution_count": 10,
   "metadata": {},
   "outputs": [],
   "source": [
    "# make_text_dictionary()"
   ]
  },
  {
   "cell_type": "code",
   "execution_count": 11,
   "metadata": {},
   "outputs": [],
   "source": [
    "from sklearn.feature_extraction.text import CountVectorizer\n",
    "from bertopic.vectorizers import ClassTfidfTransformer\n",
    "from bertopic.representation import KeyBERTInspired\n",
    "\n",
    "vectorizer_model = CountVectorizer(stop_words='english')\n",
    "ctfidf_model = ClassTfidfTransformer(reduce_frequent_words=True)\n",
    "representation_model = KeyBERTInspired()"
   ]
  },
  {
   "cell_type": "code",
   "execution_count": 16,
   "metadata": {},
   "outputs": [],
   "source": [
    "# extract the text from the json file\n",
    "with open('text_dictionary.json', 'r') as fp:\n",
    "    docs = json.load(fp)\n",
    "docs = list(docs.values())\n",
    "\n"
   ]
  },
  {
   "cell_type": "code",
   "execution_count": 26,
   "metadata": {},
   "outputs": [
    {
     "name": "stderr",
     "output_type": "stream",
     "text": [
      "Downloading (…)5dded/.gitattributes: 100%|██████████| 1.18k/1.18k [00:00<00:00, 18.9kB/s]\n",
      "Downloading (…)_Pooling/config.json: 100%|██████████| 190/190 [00:00<00:00, 108kB/s]\n",
      "Downloading (…)4d81d5dded/README.md: 100%|██████████| 10.6k/10.6k [00:00<00:00, 3.91MB/s]\n",
      "Downloading (…)81d5dded/config.json: 100%|██████████| 573/573 [00:00<00:00, 343kB/s]\n",
      "Downloading (…)ce_transformers.json: 100%|██████████| 116/116 [00:00<00:00, 66.3kB/s]\n",
      "Downloading (…)ded/data_config.json: 100%|██████████| 39.3k/39.3k [00:00<00:00, 175kB/s]\n",
      "Downloading pytorch_model.bin: 100%|██████████| 134M/134M [00:03<00:00, 36.1MB/s] \n",
      "Downloading (…)nce_bert_config.json: 100%|██████████| 53.0/53.0 [00:00<00:00, 23.8kB/s]\n",
      "Downloading (…)cial_tokens_map.json: 100%|██████████| 112/112 [00:00<00:00, 72.7kB/s]\n",
      "Downloading (…)5dded/tokenizer.json: 100%|██████████| 466k/466k [00:00<00:00, 687kB/s]\n",
      "Downloading (…)okenizer_config.json: 100%|██████████| 352/352 [00:00<00:00, 205kB/s]\n",
      "Downloading (…)dded/train_script.py: 100%|██████████| 13.2k/13.2k [00:00<00:00, 4.32MB/s]\n",
      "Downloading (…)4d81d5dded/vocab.txt: 100%|██████████| 232k/232k [00:00<00:00, 556kB/s]\n",
      "Downloading (…)1d5dded/modules.json: 100%|██████████| 349/349 [00:00<00:00, 192kB/s]\n"
     ]
    }
   ],
   "source": [
    "\n",
    "embedding_model_1 = pipeline(\"feature-extraction\", model=\"distilbert-base-cased\")\n",
    "embedding_model_2 = \"all-miniLM-L12-v2\"\n",
    "topic_model = BERTopic(embedding_model=embedding_model_2, \n",
    "                       vectorizer_model=vectorizer_model, \n",
    "                       ctfidf_model=ctfidf_model, \n",
    "                       representation_model=representation_model)\n",
    "\n",
    "topics, probs = topic_model.fit_transform(docs)"
   ]
  },
  {
   "cell_type": "code",
   "execution_count": 27,
   "metadata": {},
   "outputs": [
    {
     "data": {
      "text/html": [
       "<div>\n",
       "<style scoped>\n",
       "    .dataframe tbody tr th:only-of-type {\n",
       "        vertical-align: middle;\n",
       "    }\n",
       "\n",
       "    .dataframe tbody tr th {\n",
       "        vertical-align: top;\n",
       "    }\n",
       "\n",
       "    .dataframe thead th {\n",
       "        text-align: right;\n",
       "    }\n",
       "</style>\n",
       "<table border=\"1\" class=\"dataframe\">\n",
       "  <thead>\n",
       "    <tr style=\"text-align: right;\">\n",
       "      <th></th>\n",
       "      <th>Topic</th>\n",
       "      <th>Count</th>\n",
       "      <th>Name</th>\n",
       "      <th>Representation</th>\n",
       "      <th>Representative_Docs</th>\n",
       "    </tr>\n",
       "  </thead>\n",
       "  <tbody>\n",
       "    <tr>\n",
       "      <th>0</th>\n",
       "      <td>-1</td>\n",
       "      <td>16</td>\n",
       "      <td>-1_economies_economy_economic_inflation</td>\n",
       "      <td>[economies, economy, economic, inflation, poli...</td>\n",
       "      <td>[Monetary Policy Dilemmas: Some RBI Perspectiv...</td>\n",
       "    </tr>\n",
       "    <tr>\n",
       "      <th>1</th>\n",
       "      <td>0</td>\n",
       "      <td>15</td>\n",
       "      <td>0_fiscal_banks_committee_rbi</td>\n",
       "      <td>[fiscal, banks, committee, rbi, bank, monetary...</td>\n",
       "      <td>[Five Years of Leading the Reserve Bank Lookin...</td>\n",
       "    </tr>\n",
       "    <tr>\n",
       "      <th>2</th>\n",
       "      <td>1</td>\n",
       "      <td>35</td>\n",
       "      <td>1_finance_financial_markets_economy</td>\n",
       "      <td>[finance, financial, markets, economy, liquidi...</td>\n",
       "      <td>[Global Financial Turbulence and Financial  Se...</td>\n",
       "    </tr>\n",
       "  </tbody>\n",
       "</table>\n",
       "</div>"
      ],
      "text/plain": [
       "   Topic  Count                                     Name  \\\n",
       "0     -1     16  -1_economies_economy_economic_inflation   \n",
       "1      0     15             0_fiscal_banks_committee_rbi   \n",
       "2      1     35      1_finance_financial_markets_economy   \n",
       "\n",
       "                                      Representation  \\\n",
       "0  [economies, economy, economic, inflation, poli...   \n",
       "1  [fiscal, banks, committee, rbi, bank, monetary...   \n",
       "2  [finance, financial, markets, economy, liquidi...   \n",
       "\n",
       "                                 Representative_Docs  \n",
       "0  [Monetary Policy Dilemmas: Some RBI Perspectiv...  \n",
       "1  [Five Years of Leading the Reserve Bank Lookin...  \n",
       "2  [Global Financial Turbulence and Financial  Se...  "
      ]
     },
     "execution_count": 27,
     "metadata": {},
     "output_type": "execute_result"
    }
   ],
   "source": [
    "topic_model.get_topic_info()"
   ]
  },
  {
   "cell_type": "code",
   "execution_count": 28,
   "metadata": {},
   "outputs": [],
   "source": [
    "freq = topic_model.get_topic_info()"
   ]
  },
  {
   "cell_type": "code",
   "execution_count": 29,
   "metadata": {},
   "outputs": [],
   "source": [
    "# make a csv of the topics\n",
    "freq.to_csv('freq.csv')"
   ]
  },
  {
   "cell_type": "code",
   "execution_count": null,
   "metadata": {},
   "outputs": [],
   "source": []
  }
 ],
 "metadata": {
  "kernelspec": {
   "display_name": "base",
   "language": "python",
   "name": "python3"
  },
  "language_info": {
   "codemirror_mode": {
    "name": "ipython",
    "version": 3
   },
   "file_extension": ".py",
   "mimetype": "text/x-python",
   "name": "python",
   "nbconvert_exporter": "python",
   "pygments_lexer": "ipython3",
   "version": "3.8.10"
  },
  "orig_nbformat": 4
 },
 "nbformat": 4,
 "nbformat_minor": 2
}
