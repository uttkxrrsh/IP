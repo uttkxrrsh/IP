{
 "cells": [
  {
   "cell_type": "code",
   "execution_count": 13,
   "metadata": {},
   "outputs": [],
   "source": [
    "import PyPDF2\n",
    "from nltk import word_tokenize \n",
    "from nltk.util import ngrams\n",
    "from nltk.corpus import stopwords\n",
    "stop_words = set(stopwords.words('english'))\n",
    "\n",
    "# file name is test.pdf"
   ]
  },
  {
   "cell_type": "code",
   "execution_count": 14,
   "metadata": {},
   "outputs": [],
   "source": [
    "def get_text(file):\n",
    "    pdfFileObj = open(file, 'rb')\n",
    "    pdfReader = PyPDF2.PdfReader(pdfFileObj)\n",
    "    text = ''\n",
    "    num_pages = len(pdfReader.pages)\n",
    "    for i in range(num_pages):\n",
    "        pageObj = pdfReader.pages[i]\n",
    "        text += pageObj.extract_text()\n",
    "    pdfFileObj.close()\n",
    "    return text\n",
    "\n",
    "\n",
    "def filter(text):\n",
    "    token = word_tokenize(text)\n",
    "    token = [word.lower() for word in token]\n",
    "    token = [word for word in token if word.isalpha()]\n",
    "    token = [word for word in token if not word in stop_words]\n",
    "    return token\n",
    "\n",
    "def get_bigram(token):\n",
    "    bigram = ngrams(token, 2)\n",
    "    return list(bigram)"
   ]
  },
  {
   "cell_type": "code",
   "execution_count": 15,
   "metadata": {},
   "outputs": [],
   "source": [
    "def create_string_from_list(list):\n",
    "    string = ''\n",
    "    for i in range(len(list)):\n",
    "        string += list[i]\n",
    "        string += ' '\n",
    "    return string"
   ]
  },
  {
   "cell_type": "code",
   "execution_count": 17,
   "metadata": {},
   "outputs": [],
   "source": [
    "string_list = create_string_from_list(filter(get_text('test.pdf')))"
   ]
  },
  {
   "cell_type": "code",
   "execution_count": 18,
   "metadata": {},
   "outputs": [
    {
     "name": "stdout",
     "output_type": "stream",
     "text": [
      "press release department communication central office mumbai reserve bank india website helpdoc april governor statement april monetary policy committee mpc met april deliberated current evolving macroeconomic financial developments domestic global mpc voted unanimously leave policy repo rate unchanged per cent also unanimously decided continue accomm odative stance long necessary sustain growth durable basis continue mitigate impact covid economy ensuring inflation remains within target going forward marginal standing facility msf rate th e bank rate remain unchanged per cent reverse repo rate stands unchanged per cent let start laying briefly mpc decision underlying rationale since last meeting headline inflation moderating close target rate january firmed per cent february primarily due adverse base effect looking ahead evolving cpi inflation trajectory likely subjected upside downside pressures bumper foodgr ains production shoul result softening cereal prices going forward mitigati price pressures key food items based components edible oils would also depend supply measures easing international pri ces mpc noted underlying inflation pressures emanate high international commodity prices logistics costs softening crude prices seen recent weeks sustains assuage input cost pressures national statistical office nso update february placed contraction real gdp per cent prospects f strengthened progress vaccination programme recent surge infections however imparted greater uncertainty outlook needs closely watched especially localised regional lockdowns could dampen recent improvement demand conditions delay return normalcy backdrop mpc judged monetary policy remain accommodative support nurture recovery words stance monetary policy remain accommodative till prospects sustained recovery well secured closely monitoring evolving outlook inflation assessment growth inflation growth global growth gradually recovering slowdown remains uneven across countries supported ongoing vaccination drives sustained accommodative monetary policies sizeable fiscal stimulus world output projected organisation economic operation development oecd reach pandemic level though largely contingent pace vaccine distribution efficacy emerging variants virus stronger external demand support india exports investment demand domestic economy focus must containing spread virus well economic revival consolidating gains achieved far sustaining impulses growth new financial year key aspect strategy strengthen bedrock macroeconomic sta bility anchored india revival pandemic help stakeholders taking efficient spending decisions longer horizons thereby improving investment climate public investment key infrastructure sectors force multiplier historically proven ability revive broader economy directly enhancing capital stock productivity attracting private investment focus union budget investment measures increased allocations capital expenditure expanded linked incentives pli scheme rising capacity utilisation per cent per cent reinforce process economic revival fact firms engaged manufacturing services infrastructure sector polled reserve bank march optimistic pick demand expansion business activity financial year juxtaposi tion high frequency lead coincident indicators reveals economic activity normalis ing spite surge infections rural demand remains buoyant record agriculture production bodes well resilience urban demand gained traction get fillip ongoing vaccination drive recent surge covid infections however adds uncertainty domestic growth outlook amid st tightening restrictions state governments india w e better prepared meet challenges posed resurgence infections fiscal monetary authorities stand ready act coordinated manner limit spillovers economy large contain fallout ongoing recovery concern arou nd rising cases infections martin luther king jr said quote must accept finite disappointment never lose infinite increase international commodity prices since february policy recurrence global financial market volatility like bout experienced late february accentuates downside risks upside risks however come vaccination programme speeded increasingly extended wider segments populat ion ii gradual release pent demand iii investment supportive reform measures taken government taking factors consideration projection real gdp growth retained per cent consisting per cent per cent q per cent per cent inflation headline inflation per cent february remains within tolerance band underlying constituents testing upper tolerance level going forward f ood inflation trajectory critically depend temporal spatial progress west monsoon season second respite incidence domestic taxes petroleum products coordinated action c entre states could provide relief top recent address washington february easing international crude prices third combination high international commodity prices logistics costs may push input price pressures across manufacturing services taking consideration factors projection cpi inflation revised per cent per cent per cent per cent per cent ri sks broadly balanced march government retained inflation target per cent lower upper tolerance levels per cent per cent respectively next five years april march inflation rate per cent medium term successfully entrenched economic l andscape experience efficaciously maintaining price stability gains credibility monetary policy since beginning inflation targeting framework reinforced retention target tolerance band time monetary policy committee mpc constituted september average cpi inflation period october february prior onset covid pandemic per cent average per cent january september research suggests trend inflation moderated flexible nflation targeting period around per cent recent times experience covid period testified flexibility framework respond sharp inflation offs extreme supply shocks course business cycle monetary policy next five years would aim consolidating building upon credibility gains first years flexible inflation targeting liquidity guidance statements past policy announcements reiterating reserve bank commitment ensur ing ample system liquidity consonance accommodative stance mpc say ample liquidity mean level liquidity would keep system surplus even meeting requirements financial market segments productive sectors economy perspective endeavour conduct liquidity management operations conducive promoting orderly market conditions approach yielded dividends facilitated successful completion c entral state government borrowing programme close lakh crore record low cost elongat ed maturity also facilitated significant amount private borrowing corporate bonds commercial paper debentur es would worthwhile note despite recommencement day variable rate reverse repo vrrr auctions since january liquidity absorbed fixed rate reverse repo steadily increased fortnightly average lakh crore january lakh crore january march reflecting surplus liquidity reserve money rose per cent yoy march driven currency demand money supply grew per cent yoy march bank credit growth per cent yoy march view success vrrr given rising level surplus liquidity decided conduct vrrr auctions longer maturity indicated revised liquidity management framework announced february amount tenor auctions decided based evolving liquidity financial conditions part rbi liquidity management operations hould read liquidity tightening fact paying higher rate interest liquidity absorptions vrrr auctions rbi indirectly expanding liquidity since mid year global financial markets increasingly turned volatile driven surge sovereign bond yields inflation concerns stemming edging international commodity prices well expectations strong er growth bond market volatility strengthening us dollar spilled emerging markets expectations reflationary cycle us led retrenchment f portfolio flows emerging market economies emes continued march given strong inter financial markets across borders progressive integration global financial cycle upsurge investor unease india despite repeated assurances forward guidance liquidity given r bi benchmark year yield traded per cent average april january spiked per cent march coming sync sec yields corporate bond yields also hardened across issuers rating categories recent period since january aaa corporate bond yields year year maturities firmed bps bps respectively march reflecting developments corporate bond issuance february crore moderated peak f crore recorded december taking note market discomfort consonance commitment ensure ample liquidity orderly market conditions reserve bank scaled open market operations omos february conducted five special omos operation twists february march increased amount operation twist ot auction march crore cr ore adopted innovative asymmetrical special omo purchase crore sale crore march reinforce compression term premia well inject liquidity drew favourable market response clear signal reserve bank support market adequate liquidity various instruments toolkit liquidity impact omos could gauged fact made net outright purchases amounting lakh cr ore duri ng year drawing experience decided put place termed secondary market acquisition programme g give distinct character programme rbi commit upfront specific amount open market purchases government securities view enabling stable orderly evolution yield curve amidst comfortable liquidity conditions endeavou r ensure congenial financial conditions recovery gain traction therefore decided announce g f lakh crore first purchase government securities aggregate amount crore g conducted april positive externalities g operations need seen context segments financial markets rely g yield curve pricing benchmark addition extension htm dispensation opens space investments lakh crore also continue deploy regular operations laf longer repo auctions forex operations open market operations including specia l omos ensure liquidity conditions evolve consonance stance monetary policy financial conditions supportive stakeholders laying liquidity management strategy let unequivocally state reserve bank endeavour ensure orderly evolution yield curve governed fundamentals distinct specific level thereof objective eschew volatility market view central role pricing ot financial market instruments across term structure issuers public private sector necessary prerequisite nascent hesitant reco firm become durable needless add movements bond yields consistent fundamentals quite normal market perspective however movements abrupt disruptive financial stability preserved reserve bank course continue whatever takes preserve financial stability insulate domestic financial markets global spillovers consequent volatility would urge market participants take heed actions communication signals balanced manner together overcome challenges lay foundations durable recovery beyond pandemic let us prepare tryst potential firmly additional measures backdrop view nurture recovery certain additional measures announced details measures set statement developmental regulatory policies part monetary policy statement tltro tap scheme extension deadline view increasing focus liquidity measures revival activity specific sectors tltro tap scheme announced october made available march extended period six months upto september liquidity facility india financial institutions special refinance facilities crore provided india financial institutions aifis like nabard sidbi nhb exim bank april nurture still nascent gr owth impulses felt necessary support continued flow credit real economy accordingly liquidity support crore fresh lending provided aifis crore nabard crore nhb crore sidbi enhancement limit maximum balance payments banks view furthering financial inclusion expand ability payment banks cater growing needs customers current limit maximum end day balance lakh per individual customer increased lakh immediate effect asset reconstruction companies constitution committee asset reconstruction companies arcs play important role resolution stressed assets potential however yet fully realised therefore proposed constitute committee undertake comprehensive review working arcs recommend measures enable entities meet growing requirements f financial sector permitting banks lend nbfcs recognising key role played nbfcs making credit available last mile bank lending registered nbfcs mfis lending agriculture msme housing permitted classified priority sector lending psl dispensation available august till march extended another six months september priority sector lending psl enhanc ement loan limit view encouraging farm credit individual farmers agricultural produce decided enhance loan limit priority sector lending psl lakh lakh per borrower agricultural produce backed negotiable warehouse receipts nwrs issued warehouses registered warehousing development regulatory authority wdra warehouse receipts loan limit classification psl continue lakh per borrower financial inclusion index financial inclusion thrust area government reserve bank regulators significant progress made years measure extent financial inclusion country reserve bank proposes construct publish financial inclusion index fi index based multiple parameters published july every year financial year ending previous march centralised payment systems cps viz rtgs neft membership entities banks membership rbi centralised payment systems cpss rtgs neft currently limited banks exceptions proposed enable bank payment system operators like prepaid payment instrument ppi issuers c ard networks white label atm operators trade receivables discounting system treds platforms regulated reserve bank take direct membership cpss facility expected minimise settlement risk financial system enhance reach digital financial services user segments interoperability prepaid payment instruments ppis increase account limit lakh reserve bank issued guidelines october adoption interoperability v oluntary basis full prepaid payment instruments ppis migration towards interoperability significant proposed make interoperability mandatory full ppis payment acceptance infrastructure incentivise migration ppis full proposed increase current limit outstanding balance ppis lakh lakh cash withdrawal full ppis issued non present cash withdrawal allowed full ppis issued banks confidence measure bring uniformity across ppi issuers proposed allow cash withdrawals full ppis non ppi issuers measur e conjunction mandate interoperability boost migration full ppis would also complement acceptance infrastructure tier iii vi centres relaxation period parking external commercial borrowing ecb proceeds term deposits extant external commercial borrowing ecb framework borrowers allowed place ecb proceeds term deposits ad category banks india maximum period months view difficulty faced borrowers due pandemic decided permit parking unutilised ecb proceeds drawn march term deposits ad category banks india prospectively march wma limit decided accept recommendations advisory committee constituted reserve bank review ways means advance wma limits state related issues accordingly decided enhance aggr egate wma limit states uts crore increase per cent current limit crore fixed february also decided continue enhanced interim wma limit crore granted rbi due pandemic period six months september conclusion contrast previous year hope generated vaccination drives several countries start year somewhat offset rising infections new mutant strains worldwide yet speed collective endeavour world mobilised scientific energies develop vaccines pandemic related protocols become way life give us hope nd confidence sail renewed surge localised spurts rates infections hopefully ebb c ovid vaccination drives truly believe indomitable spirit human race confronted trial virus resilience fortitude surviv let harbinger new economic era india conclude quote f rom mahatma gandhi continues inspire us patience worth anything must endure end time living faith last midst blackest storm thank stay safe stay well namaskar yogesh dayal press release chief general manager mahatma gandhi collected works mahatma gandhi \n"
     ]
    }
   ],
   "source": [
    "print(string_list)"
   ]
  },
  {
   "cell_type": "code",
   "execution_count": 22,
   "metadata": {},
   "outputs": [
    {
     "ename": "AttributeError",
     "evalue": "'TransposedFont' object has no attribute 'getbbox'",
     "output_type": "error",
     "traceback": [
      "\u001b[1;31m---------------------------------------------------------------------------\u001b[0m",
      "\u001b[1;31mAttributeError\u001b[0m                            Traceback (most recent call last)",
      "\u001b[1;32m<ipython-input-22-b354e523c87a>\u001b[0m in \u001b[0;36m<module>\u001b[1;34m\u001b[0m\n\u001b[0;32m      3\u001b[0m \u001b[1;32mimport\u001b[0m \u001b[0mmatplotlib\u001b[0m\u001b[1;33m.\u001b[0m\u001b[0mpyplot\u001b[0m \u001b[1;32mas\u001b[0m \u001b[0mplt\u001b[0m\u001b[1;33m\u001b[0m\u001b[1;33m\u001b[0m\u001b[0m\n\u001b[0;32m      4\u001b[0m \u001b[1;33m\u001b[0m\u001b[0m\n\u001b[1;32m----> 5\u001b[1;33m \u001b[0mwordcloud\u001b[0m \u001b[1;33m=\u001b[0m \u001b[0mWordCloud\u001b[0m\u001b[1;33m(\u001b[0m\u001b[0mwidth\u001b[0m\u001b[1;33m=\u001b[0m\u001b[1;36m1600\u001b[0m\u001b[1;33m,\u001b[0m \u001b[0mheight\u001b[0m\u001b[1;33m=\u001b[0m\u001b[1;36m800\u001b[0m\u001b[1;33m,\u001b[0m \u001b[0mmax_font_size\u001b[0m\u001b[1;33m=\u001b[0m\u001b[1;36m200\u001b[0m\u001b[1;33m)\u001b[0m\u001b[1;33m.\u001b[0m\u001b[0mgenerate\u001b[0m\u001b[1;33m(\u001b[0m\u001b[0mstring_list\u001b[0m\u001b[1;33m)\u001b[0m\u001b[1;33m\u001b[0m\u001b[1;33m\u001b[0m\u001b[0m\n\u001b[0m\u001b[0;32m      6\u001b[0m \u001b[0mplt\u001b[0m\u001b[1;33m.\u001b[0m\u001b[0mfigure\u001b[0m\u001b[1;33m(\u001b[0m\u001b[0mfigsize\u001b[0m\u001b[1;33m=\u001b[0m\u001b[1;33m(\u001b[0m\u001b[1;36m12\u001b[0m\u001b[1;33m,\u001b[0m\u001b[1;36m10\u001b[0m\u001b[1;33m)\u001b[0m\u001b[1;33m)\u001b[0m\u001b[1;33m\u001b[0m\u001b[1;33m\u001b[0m\u001b[0m\n\u001b[0;32m      7\u001b[0m \u001b[0mplt\u001b[0m\u001b[1;33m.\u001b[0m\u001b[0mimshow\u001b[0m\u001b[1;33m(\u001b[0m\u001b[0mwordcloud\u001b[0m\u001b[1;33m,\u001b[0m \u001b[0minterpolation\u001b[0m\u001b[1;33m=\u001b[0m\u001b[1;34m\"bilinear\"\u001b[0m\u001b[1;33m)\u001b[0m\u001b[1;33m\u001b[0m\u001b[1;33m\u001b[0m\u001b[0m\n",
      "\u001b[1;32mc:\\ProgramData\\Anaconda3\\lib\\site-packages\\wordcloud\\wordcloud.py\u001b[0m in \u001b[0;36mgenerate\u001b[1;34m(self, text)\u001b[0m\n\u001b[0;32m    637\u001b[0m         \u001b[0mself\u001b[0m\u001b[1;33m\u001b[0m\u001b[1;33m\u001b[0m\u001b[0m\n\u001b[0;32m    638\u001b[0m         \"\"\"\n\u001b[1;32m--> 639\u001b[1;33m         \u001b[1;32mreturn\u001b[0m \u001b[0mself\u001b[0m\u001b[1;33m.\u001b[0m\u001b[0mgenerate_from_text\u001b[0m\u001b[1;33m(\u001b[0m\u001b[0mtext\u001b[0m\u001b[1;33m)\u001b[0m\u001b[1;33m\u001b[0m\u001b[1;33m\u001b[0m\u001b[0m\n\u001b[0m\u001b[0;32m    640\u001b[0m \u001b[1;33m\u001b[0m\u001b[0m\n\u001b[0;32m    641\u001b[0m     \u001b[1;32mdef\u001b[0m \u001b[0m_check_generated\u001b[0m\u001b[1;33m(\u001b[0m\u001b[0mself\u001b[0m\u001b[1;33m)\u001b[0m\u001b[1;33m:\u001b[0m\u001b[1;33m\u001b[0m\u001b[1;33m\u001b[0m\u001b[0m\n",
      "\u001b[1;32mc:\\ProgramData\\Anaconda3\\lib\\site-packages\\wordcloud\\wordcloud.py\u001b[0m in \u001b[0;36mgenerate_from_text\u001b[1;34m(self, text)\u001b[0m\n\u001b[0;32m    619\u001b[0m         \"\"\"\n\u001b[0;32m    620\u001b[0m         \u001b[0mwords\u001b[0m \u001b[1;33m=\u001b[0m \u001b[0mself\u001b[0m\u001b[1;33m.\u001b[0m\u001b[0mprocess_text\u001b[0m\u001b[1;33m(\u001b[0m\u001b[0mtext\u001b[0m\u001b[1;33m)\u001b[0m\u001b[1;33m\u001b[0m\u001b[1;33m\u001b[0m\u001b[0m\n\u001b[1;32m--> 621\u001b[1;33m         \u001b[0mself\u001b[0m\u001b[1;33m.\u001b[0m\u001b[0mgenerate_from_frequencies\u001b[0m\u001b[1;33m(\u001b[0m\u001b[0mwords\u001b[0m\u001b[1;33m)\u001b[0m\u001b[1;33m\u001b[0m\u001b[1;33m\u001b[0m\u001b[0m\n\u001b[0m\u001b[0;32m    622\u001b[0m         \u001b[1;32mreturn\u001b[0m \u001b[0mself\u001b[0m\u001b[1;33m\u001b[0m\u001b[1;33m\u001b[0m\u001b[0m\n\u001b[0;32m    623\u001b[0m \u001b[1;33m\u001b[0m\u001b[0m\n",
      "\u001b[1;32mc:\\ProgramData\\Anaconda3\\lib\\site-packages\\wordcloud\\wordcloud.py\u001b[0m in \u001b[0;36mgenerate_from_frequencies\u001b[1;34m(self, frequencies, max_font_size)\u001b[0m\n\u001b[0;32m    506\u001b[0m                     font, orientation=orientation)\n\u001b[0;32m    507\u001b[0m                 \u001b[1;31m# get size of resulting text\u001b[0m\u001b[1;33m\u001b[0m\u001b[1;33m\u001b[0m\u001b[1;33m\u001b[0m\u001b[0m\n\u001b[1;32m--> 508\u001b[1;33m                 \u001b[0mbox_size\u001b[0m \u001b[1;33m=\u001b[0m \u001b[0mdraw\u001b[0m\u001b[1;33m.\u001b[0m\u001b[0mtextbbox\u001b[0m\u001b[1;33m(\u001b[0m\u001b[1;33m(\u001b[0m\u001b[1;36m0\u001b[0m\u001b[1;33m,\u001b[0m \u001b[1;36m0\u001b[0m\u001b[1;33m)\u001b[0m\u001b[1;33m,\u001b[0m \u001b[0mword\u001b[0m\u001b[1;33m,\u001b[0m \u001b[0mfont\u001b[0m\u001b[1;33m=\u001b[0m\u001b[0mtransposed_font\u001b[0m\u001b[1;33m,\u001b[0m \u001b[0manchor\u001b[0m\u001b[1;33m=\u001b[0m\u001b[1;34m\"lt\"\u001b[0m\u001b[1;33m)\u001b[0m\u001b[1;33m\u001b[0m\u001b[1;33m\u001b[0m\u001b[0m\n\u001b[0m\u001b[0;32m    509\u001b[0m                 \u001b[1;31m# find possible places using integral image:\u001b[0m\u001b[1;33m\u001b[0m\u001b[1;33m\u001b[0m\u001b[1;33m\u001b[0m\u001b[0m\n\u001b[0;32m    510\u001b[0m                 result = occupancy.sample_position(box_size[3] + self.margin,\n",
      "\u001b[1;32mc:\\ProgramData\\Anaconda3\\lib\\site-packages\\PIL\\ImageDraw.py\u001b[0m in \u001b[0;36mtextbbox\u001b[1;34m(self, xy, text, font, anchor, spacing, align, direction, features, language, stroke_width, embedded_color)\u001b[0m\n\u001b[0;32m    565\u001b[0m             \u001b[0mfont\u001b[0m \u001b[1;33m=\u001b[0m \u001b[0mself\u001b[0m\u001b[1;33m.\u001b[0m\u001b[0mgetfont\u001b[0m\u001b[1;33m(\u001b[0m\u001b[1;33m)\u001b[0m\u001b[1;33m\u001b[0m\u001b[1;33m\u001b[0m\u001b[0m\n\u001b[0;32m    566\u001b[0m         \u001b[0mmode\u001b[0m \u001b[1;33m=\u001b[0m \u001b[1;34m\"RGBA\"\u001b[0m \u001b[1;32mif\u001b[0m \u001b[0membedded_color\u001b[0m \u001b[1;32melse\u001b[0m \u001b[0mself\u001b[0m\u001b[1;33m.\u001b[0m\u001b[0mfontmode\u001b[0m\u001b[1;33m\u001b[0m\u001b[1;33m\u001b[0m\u001b[0m\n\u001b[1;32m--> 567\u001b[1;33m         bbox = font.getbbox(\n\u001b[0m\u001b[0;32m    568\u001b[0m             \u001b[0mtext\u001b[0m\u001b[1;33m,\u001b[0m \u001b[0mmode\u001b[0m\u001b[1;33m,\u001b[0m \u001b[0mdirection\u001b[0m\u001b[1;33m,\u001b[0m \u001b[0mfeatures\u001b[0m\u001b[1;33m,\u001b[0m \u001b[0mlanguage\u001b[0m\u001b[1;33m,\u001b[0m \u001b[0mstroke_width\u001b[0m\u001b[1;33m,\u001b[0m \u001b[0manchor\u001b[0m\u001b[1;33m\u001b[0m\u001b[1;33m\u001b[0m\u001b[0m\n\u001b[0;32m    569\u001b[0m         )\n",
      "\u001b[1;31mAttributeError\u001b[0m: 'TransposedFont' object has no attribute 'getbbox'"
     ]
    }
   ],
   "source": [
    "# create wordcloud\n",
    "from wordcloud import WordCloud\n",
    "import matplotlib.pyplot as plt\n",
    "\n",
    "wordcloud = WordCloud(width=1600, height=800, max_font_size=200).generate(string_list)\n",
    "plt.figure(figsize=(12,10))\n",
    "plt.imshow(wordcloud, interpolation=\"bilinear\")\n",
    "plt.axis(\"off\")\n",
    "plt.show()\n"
   ]
  },
  {
   "cell_type": "code",
   "execution_count": null,
   "metadata": {},
   "outputs": [],
   "source": []
  }
 ],
 "metadata": {
  "kernelspec": {
   "display_name": "base",
   "language": "python",
   "name": "python3"
  },
  "language_info": {
   "codemirror_mode": {
    "name": "ipython",
    "version": 3
   },
   "file_extension": ".py",
   "mimetype": "text/x-python",
   "name": "python",
   "nbconvert_exporter": "python",
   "pygments_lexer": "ipython3",
   "version": "3.8.5"
  },
  "orig_nbformat": 4
 },
 "nbformat": 4,
 "nbformat_minor": 2
}
